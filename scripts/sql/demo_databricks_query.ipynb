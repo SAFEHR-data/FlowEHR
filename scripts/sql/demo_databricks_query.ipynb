{
 "cells": [
  {
   "attachments": {},
   "cell_type": "markdown",
   "metadata": {},
   "source": [
    "#Temporary example of selecting rows from the feature store, using pyodbc with SQL ODBC Driver 17\n",
    "\n",
    "(Not for prod use, and odbc 18 should be used)"
   ]
  },
  {
   "cell_type": "code",
   "execution_count": null,
   "metadata": {},
   "outputs": [],
   "source": [
    "%sh\n",
    "curl https://packages.microsoft.com/keys/microsoft.asc | apt-key add -\n",
    "curl https://packages.microsoft.com/config/ubuntu/16.04/prod.list > /etc/apt/sources.list.d/mssql-release.list\n",
    "sudo apt-get update\n",
    "sudo ACCEPT_EULA=Y apt-get -q -y install msodbcsql17"
   ]
  },
  {
   "cell_type": "code",
   "execution_count": null,
   "metadata": {},
   "outputs": [],
   "source": [
    "import pyodbc \n",
    "import sys\n",
    "\n",
    "secret_scope = \"flowehr-secrets\"\n",
    "server = dbutils.secrets.get(scope=secret_scope, key=\"flowehr-dbks-sql-server\")\n",
    "database = dbutils.secrets.get(scope=secret_scope, key=\"flowehr-dbks-sql-database\")\n",
    "client_id = dbutils.secrets.get(scope=secret_scope, key=\"flowehr-dbks-sql-app-id\")\n",
    "client_secret = dbutils.secrets.get(scope=secret_scope, key=\"flowehr-dbks-sql-app-secret\")\n",
    "\n",
    "def create_con_str(db: str) -> str:\n",
    "    driver = \"{ODBC Driver 17 for SQL Server}\"\n",
    "    return f'DRIVER={driver};SERVER={server};DATABASE={db};ENCRYPT=yes;Authentication=ActiveDirectoryServicePrincipal;UID={client_id};PWD={client_secret}'\n",
    "\n",
    "# connect to database\n",
    "cnxn = pyodbc.connect(create_con_str(database))\n",
    "cursor = cnxn.cursor()\n",
    "\n",
    "cursor.execute(\"SELECT top 10 * from dbo.diabetes\") \n",
    "\n",
    "row = cursor.fetchone() \n",
    "while row: \n",
    "    display(row)\n",
    "    row = cursor.fetchone()\n",
    "\n"
   ]
  }
 ],
 "metadata": {
  "kernelspec": {
   "display_name": "Python 3",
   "language": "python",
   "name": "python3"
  },
  "language_info": {
   "name": "python",
   "version": "3.8.16"
  },
  "orig_nbformat": 4,
  "vscode": {
   "interpreter": {
    "hash": "949777d72b0d2535278d3dc13498b2535136f6dfe0678499012e853ee9abcab1"
   }
  }
 },
 "nbformat": 4,
 "nbformat_minor": 2
}
